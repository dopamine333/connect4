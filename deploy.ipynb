{
 "cells": [
  {
   "cell_type": "markdown",
   "metadata": {},
   "source": [
    "# [git](https://websockets.readthedocs.io/en/stable/intro/tutorial3.html)"
   ]
  },
  {
   "cell_type": "code",
   "execution_count": null,
   "metadata": {},
   "outputs": [],
   "source": [
    "! git --version"
   ]
  },
  {
   "cell_type": "code",
   "execution_count": null,
   "metadata": {},
   "outputs": [],
   "source": [
    "! git init -b main\n",
    "# Initialized empty Git repository in websockets-tutorial/.git/"
   ]
  },
  {
   "cell_type": "code",
   "execution_count": null,
   "metadata": {},
   "outputs": [],
   "source": [
    "! git commit --allow-empty -m \"Initial commit.\"\n",
    "# [main (root-commit) ...] Initial commit."
   ]
  },
  {
   "cell_type": "code",
   "execution_count": null,
   "metadata": {},
   "outputs": [],
   "source": [
    "! touch requirements.txt\n",
    "! echo \"websockets\" > requirements.txt"
   ]
  },
  {
   "cell_type": "code",
   "execution_count": null,
   "metadata": {},
   "outputs": [],
   "source": [
    "! touch Procfile\n",
    "! echo \"web: python app.py\" > Procfile"
   ]
  },
  {
   "cell_type": "code",
   "execution_count": null,
   "metadata": {},
   "outputs": [],
   "source": [
    "! git add .\n",
    "! git commit -m \"Deploy to Heroku.\"\n",
    "# [main ...] Deploy to Heroku.\n",
    "#  3 files changed, 12 insertions(+), 2 deletions(-)\n",
    "#  create mode 100644 Procfile\n",
    "#  create mode 100644 requirements.txt"
   ]
  },
  {
   "cell_type": "code",
   "execution_count": null,
   "metadata": {},
   "outputs": [],
   "source": [
    "! git remote add origin git@github.com:dopamine333/connect4.git\n",
    "! git push -u origin main\n",
    "# Enumerating objects: 11, done.\n",
    "# Counting objects: 100% (11/11), done.\n",
    "# Delta compression using up to 8 threads\n",
    "# Compressing objects: 100% (10/10), done.\n",
    "# Writing objects: 100% (11/11), 5.90 KiB | 2.95 MiB/s, done.\n",
    "# Total 11 (delta 0), reused 0 (delta 0), pack-reused 0\n",
    "# To github.com:<username>/websockets-tutorial.git\n",
    "#  * [new branch]      main -> main\n",
    "# Branch 'main' set up to track remote branch 'main' from 'origin'."
   ]
  },
  {
   "cell_type": "markdown",
   "metadata": {},
   "source": [
    "# ~~heroku~~"
   ]
  },
  {
   "cell_type": "code",
   "execution_count": null,
   "metadata": {},
   "outputs": [],
   "source": [
    "! brew tap heroku/brew && brew install heroku\n"
   ]
  },
  {
   "cell_type": "code",
   "execution_count": null,
   "metadata": {},
   "outputs": [],
   "source": [
    "! heroku login"
   ]
  },
  {
   "cell_type": "code",
   "execution_count": null,
   "metadata": {},
   "outputs": [],
   "source": [
    "! heroku whoami"
   ]
  },
  {
   "cell_type": "code",
   "execution_count": null,
   "metadata": {},
   "outputs": [],
   "source": [
    "! heroku create connect4\n",
    "# Creating ⬢ websockets-tutorial... done\n",
    "# https://websockets-tutorial.herokuapp.com/ | https://git.heroku.com/websockets-tutorial.git"
   ]
  },
  {
   "cell_type": "markdown",
   "metadata": {},
   "source": [
    "# [Fly](https://websockets.readthedocs.io/en/stable/howto/fly.html)"
   ]
  },
  {
   "cell_type": "code",
   "execution_count": null,
   "metadata": {},
   "outputs": [],
   "source": [
    "! brew install flyctl\n"
   ]
  },
  {
   "cell_type": "code",
   "execution_count": null,
   "metadata": {},
   "outputs": [],
   "source": [
    "! fly auth login\n"
   ]
  },
  {
   "cell_type": "code",
   "execution_count": null,
   "metadata": {},
   "outputs": [],
   "source": [
    "! fly launch\n",
    "# Creating app in ...\n",
    "# Scanning source code\n",
    "# Detected a Python app\n",
    "# Using the following build configuration:\n",
    "#     Builder: paketobuildpacks/builder:base\n",
    "# ? App Name (leave blank to use an auto-generated name): websockets-echo\n",
    "# ? Select organization: ...\n",
    "# ? Select region: ...\n",
    "# Created app websockets-echo in organization ...\n",
    "# Wrote config file fly.toml\n",
    "# ? Would you like to set up a Postgresql database now? No\n",
    "# We have generated a simple Procfile for you. Modify it to fit your needs and run \"fly deploy\" to deploy your application."
   ]
  },
  {
   "cell_type": "markdown",
   "metadata": {},
   "source": [
    "# info"
   ]
  },
  {
   "cell_type": "code",
   "execution_count": null,
   "metadata": {},
   "outputs": [],
   "source": [
    "! git help -a"
   ]
  },
  {
   "cell_type": "code",
   "execution_count": null,
   "metadata": {},
   "outputs": [],
   "source": [
    "! git config"
   ]
  },
  {
   "cell_type": "code",
   "execution_count": null,
   "metadata": {},
   "outputs": [],
   "source": [
    "! git config --list"
   ]
  },
  {
   "cell_type": "code",
   "execution_count": null,
   "metadata": {},
   "outputs": [],
   "source": [
    "! git config --global --list"
   ]
  },
  {
   "cell_type": "code",
   "execution_count": null,
   "metadata": {},
   "outputs": [],
   "source": []
  },
  {
   "cell_type": "markdown",
   "metadata": {},
   "source": [
    "# other"
   ]
  },
  {
   "cell_type": "code",
   "execution_count": null,
   "metadata": {},
   "outputs": [],
   "source": [
    "! git add .\n",
    "! git commit -m \"Waiting to be deployed to Fly\""
   ]
  }
 ],
 "metadata": {
  "kernelspec": {
   "display_name": "base",
   "language": "python",
   "name": "python3"
  },
  "language_info": {
   "codemirror_mode": {
    "name": "ipython",
    "version": 3
   },
   "file_extension": ".py",
   "mimetype": "text/x-python",
   "name": "python",
   "nbconvert_exporter": "python",
   "pygments_lexer": "ipython3",
   "version": "3.9.13"
  },
  "orig_nbformat": 4
 },
 "nbformat": 4,
 "nbformat_minor": 2
}
